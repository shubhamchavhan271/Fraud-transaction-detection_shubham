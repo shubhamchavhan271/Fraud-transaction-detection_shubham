{
 "cells": [
  {
   "cell_type": "code",
   "execution_count": 1,
   "id": "03189ff2",
   "metadata": {},
   "outputs": [],
   "source": [
    "import pandas as pd"
   ]
  },
  {
   "cell_type": "code",
   "execution_count": 13,
   "id": "8d651851",
   "metadata": {},
   "outputs": [],
   "source": [
    "df = pd.read_csv(\"2018-04-04.csv\")"
   ]
  },
  {
   "cell_type": "code",
   "execution_count": 14,
   "id": "e8206fb3",
   "metadata": {},
   "outputs": [
    {
     "data": {
      "text/html": [
       "<div>\n",
       "<style scoped>\n",
       "    .dataframe tbody tr th:only-of-type {\n",
       "        vertical-align: middle;\n",
       "    }\n",
       "\n",
       "    .dataframe tbody tr th {\n",
       "        vertical-align: top;\n",
       "    }\n",
       "\n",
       "    .dataframe thead th {\n",
       "        text-align: right;\n",
       "    }\n",
       "</style>\n",
       "<table border=\"1\" class=\"dataframe\">\n",
       "  <thead>\n",
       "    <tr style=\"text-align: right;\">\n",
       "      <th></th>\n",
       "      <th>TRANSACTION_ID</th>\n",
       "      <th>TX_DATETIME</th>\n",
       "      <th>CUSTOMER_ID</th>\n",
       "      <th>TERMINAL_ID</th>\n",
       "      <th>TX_AMOUNT</th>\n",
       "      <th>TX_TIME_SECONDS</th>\n",
       "      <th>TX_TIME_DAYS</th>\n",
       "      <th>TX_FRAUD</th>\n",
       "      <th>TX_FRAUD_SCENARIO</th>\n",
       "    </tr>\n",
       "  </thead>\n",
       "  <tbody>\n",
       "    <tr>\n",
       "      <th>0</th>\n",
       "      <td>28818</td>\n",
       "      <td>2018-04-04 00:00:26</td>\n",
       "      <td>3113</td>\n",
       "      <td>5738</td>\n",
       "      <td>3.14</td>\n",
       "      <td>259226</td>\n",
       "      <td>3</td>\n",
       "      <td>0</td>\n",
       "      <td>0</td>\n",
       "    </tr>\n",
       "    <tr>\n",
       "      <th>1</th>\n",
       "      <td>28819</td>\n",
       "      <td>2018-04-04 00:00:33</td>\n",
       "      <td>179</td>\n",
       "      <td>5416</td>\n",
       "      <td>61.46</td>\n",
       "      <td>259233</td>\n",
       "      <td>3</td>\n",
       "      <td>0</td>\n",
       "      <td>0</td>\n",
       "    </tr>\n",
       "    <tr>\n",
       "      <th>2</th>\n",
       "      <td>28820</td>\n",
       "      <td>2018-04-04 00:01:19</td>\n",
       "      <td>1985</td>\n",
       "      <td>9821</td>\n",
       "      <td>49.69</td>\n",
       "      <td>259279</td>\n",
       "      <td>3</td>\n",
       "      <td>0</td>\n",
       "      <td>0</td>\n",
       "    </tr>\n",
       "    <tr>\n",
       "      <th>3</th>\n",
       "      <td>28821</td>\n",
       "      <td>2018-04-04 00:01:28</td>\n",
       "      <td>301</td>\n",
       "      <td>7131</td>\n",
       "      <td>50.69</td>\n",
       "      <td>259288</td>\n",
       "      <td>3</td>\n",
       "      <td>0</td>\n",
       "      <td>0</td>\n",
       "    </tr>\n",
       "    <tr>\n",
       "      <th>4</th>\n",
       "      <td>28822</td>\n",
       "      <td>2018-04-04 00:01:47</td>\n",
       "      <td>350</td>\n",
       "      <td>3277</td>\n",
       "      <td>27.76</td>\n",
       "      <td>259307</td>\n",
       "      <td>3</td>\n",
       "      <td>0</td>\n",
       "      <td>0</td>\n",
       "    </tr>\n",
       "  </tbody>\n",
       "</table>\n",
       "</div>"
      ],
      "text/plain": [
       "   TRANSACTION_ID          TX_DATETIME  CUSTOMER_ID  TERMINAL_ID  TX_AMOUNT  \\\n",
       "0           28818  2018-04-04 00:00:26         3113         5738       3.14   \n",
       "1           28819  2018-04-04 00:00:33          179         5416      61.46   \n",
       "2           28820  2018-04-04 00:01:19         1985         9821      49.69   \n",
       "3           28821  2018-04-04 00:01:28          301         7131      50.69   \n",
       "4           28822  2018-04-04 00:01:47          350         3277      27.76   \n",
       "\n",
       "   TX_TIME_SECONDS  TX_TIME_DAYS  TX_FRAUD  TX_FRAUD_SCENARIO  \n",
       "0           259226             3         0                  0  \n",
       "1           259233             3         0                  0  \n",
       "2           259279             3         0                  0  \n",
       "3           259288             3         0                  0  \n",
       "4           259307             3         0                  0  "
      ]
     },
     "execution_count": 14,
     "metadata": {},
     "output_type": "execute_result"
    }
   ],
   "source": [
    "df.head()"
   ]
  },
  {
   "cell_type": "code",
   "execution_count": 15,
   "id": "4aa70a44",
   "metadata": {},
   "outputs": [
    {
     "name": "stdout",
     "output_type": "stream",
     "text": [
      "<class 'pandas.core.frame.DataFrame'>\n",
      "RangeIndex: 9530 entries, 0 to 9529\n",
      "Data columns (total 9 columns):\n",
      " #   Column             Non-Null Count  Dtype  \n",
      "---  ------             --------------  -----  \n",
      " 0   TRANSACTION_ID     9530 non-null   int64  \n",
      " 1   TX_DATETIME        9530 non-null   object \n",
      " 2   CUSTOMER_ID        9530 non-null   int64  \n",
      " 3   TERMINAL_ID        9530 non-null   int64  \n",
      " 4   TX_AMOUNT          9530 non-null   float64\n",
      " 5   TX_TIME_SECONDS    9530 non-null   int64  \n",
      " 6   TX_TIME_DAYS       9530 non-null   int64  \n",
      " 7   TX_FRAUD           9530 non-null   int64  \n",
      " 8   TX_FRAUD_SCENARIO  9530 non-null   int64  \n",
      "dtypes: float64(1), int64(7), object(1)\n",
      "memory usage: 670.2+ KB\n"
     ]
    }
   ],
   "source": [
    "df.info()"
   ]
  },
  {
   "cell_type": "code",
   "execution_count": 16,
   "id": "9c31c251",
   "metadata": {},
   "outputs": [],
   "source": [
    "df.drop([\"TX_DATETIME\", \"TRANSACTION_ID\", \"CUSTOMER_ID\", \"TERMINAL_ID\"], axis = 1, inplace = True)"
   ]
  },
  {
   "cell_type": "code",
   "execution_count": 17,
   "id": "71eee38b",
   "metadata": {},
   "outputs": [
    {
     "data": {
      "text/html": [
       "<div>\n",
       "<style scoped>\n",
       "    .dataframe tbody tr th:only-of-type {\n",
       "        vertical-align: middle;\n",
       "    }\n",
       "\n",
       "    .dataframe tbody tr th {\n",
       "        vertical-align: top;\n",
       "    }\n",
       "\n",
       "    .dataframe thead th {\n",
       "        text-align: right;\n",
       "    }\n",
       "</style>\n",
       "<table border=\"1\" class=\"dataframe\">\n",
       "  <thead>\n",
       "    <tr style=\"text-align: right;\">\n",
       "      <th></th>\n",
       "      <th>TX_AMOUNT</th>\n",
       "      <th>TX_TIME_SECONDS</th>\n",
       "      <th>TX_TIME_DAYS</th>\n",
       "      <th>TX_FRAUD</th>\n",
       "      <th>TX_FRAUD_SCENARIO</th>\n",
       "    </tr>\n",
       "  </thead>\n",
       "  <tbody>\n",
       "    <tr>\n",
       "      <th>0</th>\n",
       "      <td>3.14</td>\n",
       "      <td>259226</td>\n",
       "      <td>3</td>\n",
       "      <td>0</td>\n",
       "      <td>0</td>\n",
       "    </tr>\n",
       "    <tr>\n",
       "      <th>1</th>\n",
       "      <td>61.46</td>\n",
       "      <td>259233</td>\n",
       "      <td>3</td>\n",
       "      <td>0</td>\n",
       "      <td>0</td>\n",
       "    </tr>\n",
       "    <tr>\n",
       "      <th>2</th>\n",
       "      <td>49.69</td>\n",
       "      <td>259279</td>\n",
       "      <td>3</td>\n",
       "      <td>0</td>\n",
       "      <td>0</td>\n",
       "    </tr>\n",
       "    <tr>\n",
       "      <th>3</th>\n",
       "      <td>50.69</td>\n",
       "      <td>259288</td>\n",
       "      <td>3</td>\n",
       "      <td>0</td>\n",
       "      <td>0</td>\n",
       "    </tr>\n",
       "    <tr>\n",
       "      <th>4</th>\n",
       "      <td>27.76</td>\n",
       "      <td>259307</td>\n",
       "      <td>3</td>\n",
       "      <td>0</td>\n",
       "      <td>0</td>\n",
       "    </tr>\n",
       "  </tbody>\n",
       "</table>\n",
       "</div>"
      ],
      "text/plain": [
       "   TX_AMOUNT  TX_TIME_SECONDS  TX_TIME_DAYS  TX_FRAUD  TX_FRAUD_SCENARIO\n",
       "0       3.14           259226             3         0                  0\n",
       "1      61.46           259233             3         0                  0\n",
       "2      49.69           259279             3         0                  0\n",
       "3      50.69           259288             3         0                  0\n",
       "4      27.76           259307             3         0                  0"
      ]
     },
     "execution_count": 17,
     "metadata": {},
     "output_type": "execute_result"
    }
   ],
   "source": [
    "df.head()"
   ]
  },
  {
   "cell_type": "code",
   "execution_count": 18,
   "id": "ae3f31ea",
   "metadata": {},
   "outputs": [
    {
     "name": "stdout",
     "output_type": "stream",
     "text": [
      "TX_AMOUNT - [ 3.14 61.46 49.69 ... 49.73 13.6  64.74]\n",
      "TX_TIME_SECONDS - [259226 259233 259279 ... 345548 345579 345590]\n",
      "TX_TIME_DAYS - [3]\n",
      "TX_FRAUD - [0 1]\n",
      "TX_FRAUD_SCENARIO - [0 2 3 1]\n"
     ]
    }
   ],
   "source": [
    "for i in df:\n",
    "    print(i,\"-\",df[i].unique())"
   ]
  },
  {
   "cell_type": "code",
   "execution_count": 19,
   "id": "9aad42fc",
   "metadata": {},
   "outputs": [],
   "source": [
    "df.drop(\"TX_TIME_DAYS\", axis = 1, inplace = True)"
   ]
  },
  {
   "cell_type": "code",
   "execution_count": 20,
   "id": "5d2d326e",
   "metadata": {},
   "outputs": [],
   "source": [
    "X = df.drop(\"TX_FRAUD_SCENARIO\", axis = 1)\n",
    "y = df.TX_FRAUD_SCENARIO"
   ]
  },
  {
   "cell_type": "code",
   "execution_count": 21,
   "id": "e07c9d87",
   "metadata": {},
   "outputs": [],
   "source": [
    "from sklearn.model_selection import train_test_split"
   ]
  },
  {
   "cell_type": "code",
   "execution_count": 22,
   "id": "8011378c",
   "metadata": {},
   "outputs": [],
   "source": [
    "X_train, X_test, y_train, y_test = train_test_split(X, y, test_size=0.20, random_state=42)"
   ]
  },
  {
   "cell_type": "code",
   "execution_count": 25,
   "id": "bb7c4094",
   "metadata": {},
   "outputs": [],
   "source": [
    "from sklearn.naive_bayes import BernoulliNB"
   ]
  },
  {
   "cell_type": "code",
   "execution_count": 26,
   "id": "056ee176",
   "metadata": {},
   "outputs": [
    {
     "data": {
      "text/plain": [
       "1.0"
      ]
     },
     "execution_count": 26,
     "metadata": {},
     "output_type": "execute_result"
    }
   ],
   "source": [
    "berno = BernoulliNB()\n",
    "berno.fit(X_train, y_train)\n",
    "berno.score(X_test, y_test)"
   ]
  }
 ],
 "metadata": {
  "kernelspec": {
   "display_name": "Python 3 (ipykernel)",
   "language": "python",
   "name": "python3"
  },
  "language_info": {
   "codemirror_mode": {
    "name": "ipython",
    "version": 3
   },
   "file_extension": ".py",
   "mimetype": "text/x-python",
   "name": "python",
   "nbconvert_exporter": "python",
   "pygments_lexer": "ipython3",
   "version": "3.9.12"
  }
 },
 "nbformat": 4,
 "nbformat_minor": 5
}
